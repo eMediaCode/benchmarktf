{
 "cells": [
  {
   "cell_type": "code",
   "execution_count": 1,
   "metadata": {
    "collapsed": false,
    "deletable": true,
    "editable": true
   },
   "outputs": [
    {
     "name": "stderr",
     "output_type": "stream",
     "text": [
      "Using TensorFlow backend.\n"
     ]
    }
   ],
   "source": [
    "from keras.datasets import cifar10\n",
    "from keras.datasets import cifar100\n",
    "from cifar10 import *\n",
    "import multiprocessing \n",
    "from sklearn.model_selection import train_test_split\n",
    "from keras.utils import np_utils\n",
    "import os"
   ]
  },
  {
   "cell_type": "code",
   "execution_count": 2,
   "metadata": {
    "collapsed": false,
    "deletable": true,
    "editable": true
   },
   "outputs": [],
   "source": [
    "cifar_10 = cifar10.load_data()"
   ]
  },
  {
   "cell_type": "code",
   "execution_count": 3,
   "metadata": {
    "collapsed": true,
    "deletable": true,
    "editable": true
   },
   "outputs": [],
   "source": [
    "optimizer = [\"adadelta\", \"adagrad\", \"adam\", \"ftrl\", \"momentum\", \"rmsprop\", \"sgd\"]"
   ]
  },
  {
   "cell_type": "code",
   "execution_count": 4,
   "metadata": {
    "collapsed": true,
    "deletable": true,
    "editable": true
   },
   "outputs": [],
   "source": [
    "def run(opt, data):\n",
    "    try:\n",
    "        x_train, y_train, x_test, y_test = data[0][0], data[0][1], data[1][0], data[1][1]\n",
    "        x_train, x_valid, y_train, y_valid = train_test_split(x_train, y_train, test_size=0.1, random_state= 42)\n",
    "        y_train, y_valid, y_test = np_utils.to_categorical(y_train), np_utils.to_categorical(y_valid), np_utils.to_categorical(y_test)\n",
    "        print (\"[The data is downloaded successfully]\")\n",
    "    except:\n",
    "        print (\"[Data Not Downloaded]\")\n",
    "    try:\n",
    "        model = BO(x_train, y_train, x_valid, y_valid, x_test, y_test)\n",
    "        print (\"[Model Initialized]\")\n",
    "        model.build_graph()\n",
    "        print (\"[Graph Built]\")\n",
    "        model.compile_graph(optimize = opt, learning_rate = 0.01)\n",
    "        print (\"[compiled graph]\")\n",
    "        model.train(summary_dir = os.getcwd()+\"/optimizers/\"+opt)\n",
    "    except:\n",
    "        print (\"[The model is not built]\")"
   ]
  },
  {
   "cell_type": "code",
   "execution_count": 5,
   "metadata": {
    "collapsed": false
   },
   "outputs": [
    {
     "name": "stdout",
     "output_type": "stream",
     "text": [
      "[The data is downloaded successfully]\n",
      "[Model Initialized]\n",
      "[Graph Built]\n",
      "[Using optimizer]: adadelta\n",
      "[compiled graph]\n",
      "[Training started]\n",
      "epoch:  0 train_cost:  2.06501 Train_Accuracy:  0.2942 valid_cost:  2.0775 Validation_Accuracy:  0.3016\n",
      "epoch:  1 train_cost:  1.86053 Train_Accuracy:  0.351 valid_cost:  1.88181 Validation_Accuracy:  0.3432\n",
      "epoch:  2 train_cost:  1.75896 Train_Accuracy:  0.38 valid_cost:  1.78419 Validation_Accuracy:  0.3714\n",
      "epoch:  3 train_cost:  1.69702 Train_Accuracy:  0.4 valid_cost:  1.72458 Validation_Accuracy:  0.3926\n",
      "epoch:  4 train_cost:  1.65139 Train_Accuracy:  0.4168 valid_cost:  1.68107 Validation_Accuracy:  0.4082\n",
      "epoch:  5 train_cost:  1.61403 Train_Accuracy:  0.429 valid_cost:  1.64531 Validation_Accuracy:  0.4156\n",
      "epoch:  6 train_cost:  1.58211 Train_Accuracy:  0.4396 valid_cost:  1.61423 Validation_Accuracy:  0.423\n",
      "epoch:  7 train_cost:  1.55425 Train_Accuracy:  0.4542 valid_cost:  1.58713 Validation_Accuracy:  0.433\n",
      "epoch:  8 train_cost:  1.52917 Train_Accuracy:  0.4634 valid_cost:  1.56266 Validation_Accuracy:  0.4414\n",
      "epoch:  9 train_cost:  1.50627 Train_Accuracy:  0.4708 valid_cost:  1.54023 Validation_Accuracy:  0.4468\n",
      "epoch:  10 train_cost:  1.48506 Train_Accuracy:  0.4788 valid_cost:  1.51926 Validation_Accuracy:  0.4566\n",
      "epoch:  11 train_cost:  1.46523 Train_Accuracy:  0.4868 valid_cost:  1.49963 Validation_Accuracy:  0.463\n",
      "epoch:  12 train_cost:  1.44663 Train_Accuracy:  0.4948 valid_cost:  1.48119 Validation_Accuracy:  0.469\n",
      "epoch:  13 train_cost:  1.42922 Train_Accuracy:  0.5004 valid_cost:  1.46408 Validation_Accuracy:  0.4784\n",
      "epoch:  14 train_cost:  1.41266 Train_Accuracy:  0.5042 valid_cost:  1.44779 Validation_Accuracy:  0.4838\n",
      "epoch:  15 train_cost:  1.39722 Train_Accuracy:  0.512 valid_cost:  1.43259 Validation_Accuracy:  0.4906\n",
      "epoch:  16 train_cost:  1.3824 Train_Accuracy:  0.5174 valid_cost:  1.41802 Validation_Accuracy:  0.4974\n",
      "epoch:  17 train_cost:  1.3685 Train_Accuracy:  0.5242 valid_cost:  1.40429 Validation_Accuracy:  0.5024\n",
      "epoch:  18 train_cost:  1.35535 Train_Accuracy:  0.5266 valid_cost:  1.39148 Validation_Accuracy:  0.5078\n",
      "epoch:  19 train_cost:  1.34277 Train_Accuracy:  0.5338 valid_cost:  1.37928 Validation_Accuracy:  0.513\n",
      "epoch:  20 train_cost:  1.33096 Train_Accuracy:  0.5396 valid_cost:  1.36788 Validation_Accuracy:  0.5172\n",
      "epoch:  21 train_cost:  1.3196 Train_Accuracy:  0.5452 valid_cost:  1.35685 Validation_Accuracy:  0.523\n",
      "epoch:  22 train_cost:  1.30896 Train_Accuracy:  0.5502 valid_cost:  1.34647 Validation_Accuracy:  0.526\n",
      "epoch:  23 train_cost:  1.29874 Train_Accuracy:  0.553 valid_cost:  1.33662 Validation_Accuracy:  0.5294\n",
      "epoch:  24 train_cost:  1.28885 Train_Accuracy:  0.5556 valid_cost:  1.32717 Validation_Accuracy:  0.5316\n",
      "epoch:  25 train_cost:  1.27936 Train_Accuracy:  0.5586 valid_cost:  1.318 Validation_Accuracy:  0.5356\n",
      "epoch:  26 train_cost:  1.27025 Train_Accuracy:  0.56 valid_cost:  1.30931 Validation_Accuracy:  0.5394\n",
      "epoch:  27 train_cost:  1.26135 Train_Accuracy:  0.5634 valid_cost:  1.30079 Validation_Accuracy:  0.542\n",
      "epoch:  28 train_cost:  1.25272 Train_Accuracy:  0.5668 valid_cost:  1.29237 Validation_Accuracy:  0.5454\n",
      "epoch:  29 train_cost:  1.24449 Train_Accuracy:  0.571 valid_cost:  1.28461 Validation_Accuracy:  0.5462\n",
      "epoch:  30 train_cost:  1.23635 Train_Accuracy:  0.5758 valid_cost:  1.27694 Validation_Accuracy:  0.5496\n",
      "epoch:  31 train_cost:  1.2285 Train_Accuracy:  0.5792 valid_cost:  1.26976 Validation_Accuracy:  0.5532\n",
      "epoch:  32 train_cost:  1.22084 Train_Accuracy:  0.5826 valid_cost:  1.2626 Validation_Accuracy:  0.5536\n",
      "epoch:  33 train_cost:  1.21342 Train_Accuracy:  0.5854 valid_cost:  1.25563 Validation_Accuracy:  0.5568\n",
      "epoch:  34 train_cost:  1.2061 Train_Accuracy:  0.5892 valid_cost:  1.24884 Validation_Accuracy:  0.5588\n",
      "epoch:  35 train_cost:  1.19883 Train_Accuracy:  0.5916 valid_cost:  1.24226 Validation_Accuracy:  0.5602\n",
      "epoch:  36 train_cost:  1.1919 Train_Accuracy:  0.5964 valid_cost:  1.23592 Validation_Accuracy:  0.5644\n",
      "epoch:  37 train_cost:  1.18515 Train_Accuracy:  0.599 valid_cost:  1.22976 Validation_Accuracy:  0.5672\n",
      "epoch:  38 train_cost:  1.17849 Train_Accuracy:  0.6006 valid_cost:  1.2237 Validation_Accuracy:  0.5694\n",
      "epoch:  39 train_cost:  1.17202 Train_Accuracy:  0.6022 valid_cost:  1.21776 Validation_Accuracy:  0.5708\n",
      "epoch:  40 train_cost:  1.16561 Train_Accuracy:  0.604 valid_cost:  1.21198 Validation_Accuracy:  0.5734\n",
      "epoch:  41 train_cost:  1.15933 Train_Accuracy:  0.6062 valid_cost:  1.20625 Validation_Accuracy:  0.5734\n",
      "epoch:  42 train_cost:  1.15321 Train_Accuracy:  0.6074 valid_cost:  1.20065 Validation_Accuracy:  0.5742\n",
      "epoch:  43 train_cost:  1.14723 Train_Accuracy:  0.609 valid_cost:  1.19525 Validation_Accuracy:  0.5774\n",
      "epoch:  44 train_cost:  1.14135 Train_Accuracy:  0.6114 valid_cost:  1.18993 Validation_Accuracy:  0.5786\n",
      "epoch:  45 train_cost:  1.1357 Train_Accuracy:  0.6132 valid_cost:  1.18495 Validation_Accuracy:  0.5814\n",
      "epoch:  46 train_cost:  1.13005 Train_Accuracy:  0.6154 valid_cost:  1.17985 Validation_Accuracy:  0.5836\n",
      "epoch:  47 train_cost:  1.12459 Train_Accuracy:  0.6176 valid_cost:  1.17484 Validation_Accuracy:  0.5856\n",
      "epoch:  48 train_cost:  1.11926 Train_Accuracy:  0.6196 valid_cost:  1.17002 Validation_Accuracy:  0.5878\n",
      "epoch:  49 train_cost:  1.114 Train_Accuracy:  0.6202 valid_cost:  1.16528 Validation_Accuracy:  0.5896\n",
      "epoch:  50 train_cost:  1.1089 Train_Accuracy:  0.621 valid_cost:  1.16055 Validation_Accuracy:  0.591\n",
      "epoch:  51 train_cost:  1.10388 Train_Accuracy:  0.6216 valid_cost:  1.15602 Validation_Accuracy:  0.594\n",
      "epoch:  52 train_cost:  1.09887 Train_Accuracy:  0.6242 valid_cost:  1.1516 Validation_Accuracy:  0.5956\n",
      "epoch:  53 train_cost:  1.09392 Train_Accuracy:  0.6244 valid_cost:  1.14726 Validation_Accuracy:  0.5974\n",
      "epoch:  54 train_cost:  1.08914 Train_Accuracy:  0.6256 valid_cost:  1.1429 Validation_Accuracy:  0.599\n",
      "epoch:  55 train_cost:  1.08436 Train_Accuracy:  0.6278 valid_cost:  1.13862 Validation_Accuracy:  0.5988\n",
      "epoch:  56 train_cost:  1.07974 Train_Accuracy:  0.6302 valid_cost:  1.13435 Validation_Accuracy:  0.6006\n",
      "epoch:  57 train_cost:  1.07516 Train_Accuracy:  0.6324 valid_cost:  1.13025 Validation_Accuracy:  0.6016\n",
      "epoch:  58 train_cost:  1.07059 Train_Accuracy:  0.6332 valid_cost:  1.12621 Validation_Accuracy:  0.604\n",
      "epoch:  59 train_cost:  1.06623 Train_Accuracy:  0.635 valid_cost:  1.1223 Validation_Accuracy:  0.606\n",
      "epoch:  60 train_cost:  1.06182 Train_Accuracy:  0.6368 valid_cost:  1.11831 Validation_Accuracy:  0.6076\n",
      "epoch:  61 train_cost:  1.05739 Train_Accuracy:  0.6388 valid_cost:  1.11442 Validation_Accuracy:  0.61\n",
      "epoch:  62 train_cost:  1.05316 Train_Accuracy:  0.6398 valid_cost:  1.11053 Validation_Accuracy:  0.6108\n",
      "epoch:  63 train_cost:  1.04886 Train_Accuracy:  0.6418 valid_cost:  1.10678 Validation_Accuracy:  0.6116\n",
      "epoch:  64 train_cost:  1.04462 Train_Accuracy:  0.6438 valid_cost:  1.10308 Validation_Accuracy:  0.6138\n",
      "epoch:  65 train_cost:  1.04047 Train_Accuracy:  0.6458 valid_cost:  1.09947 Validation_Accuracy:  0.6156\n",
      "epoch:  66 train_cost:  1.03637 Train_Accuracy:  0.6476 valid_cost:  1.09603 Validation_Accuracy:  0.6172\n",
      "epoch:  67 train_cost:  1.03238 Train_Accuracy:  0.6506 valid_cost:  1.09257 Validation_Accuracy:  0.6166\n",
      "epoch:  68 train_cost:  1.02836 Train_Accuracy:  0.6516 valid_cost:  1.08915 Validation_Accuracy:  0.618\n",
      "epoch:  69 train_cost:  1.02433 Train_Accuracy:  0.6516 valid_cost:  1.08582 Validation_Accuracy:  0.6188\n",
      "epoch:  70 train_cost:  1.02045 Train_Accuracy:  0.6536 valid_cost:  1.08269 Validation_Accuracy:  0.6192\n",
      "epoch:  71 train_cost:  1.01655 Train_Accuracy:  0.6542 valid_cost:  1.07946 Validation_Accuracy:  0.622\n",
      "epoch:  72 train_cost:  1.0128 Train_Accuracy:  0.6558 valid_cost:  1.07631 Validation_Accuracy:  0.624\n",
      "epoch:  73 train_cost:  1.00898 Train_Accuracy:  0.657 valid_cost:  1.0731 Validation_Accuracy:  0.6248\n",
      "epoch:  74 train_cost:  1.00529 Train_Accuracy:  0.6576 valid_cost:  1.07005 Validation_Accuracy:  0.6256\n",
      "epoch:  75 train_cost:  1.00161 Train_Accuracy:  0.6574 valid_cost:  1.067 Validation_Accuracy:  0.6268\n",
      "epoch:  76 train_cost:  0.99793 Train_Accuracy:  0.6572 valid_cost:  1.06402 Validation_Accuracy:  0.6282\n",
      "epoch:  77 train_cost:  0.994356 Train_Accuracy:  0.6586 valid_cost:  1.0611 Validation_Accuracy:  0.6292\n",
      "epoch:  78 train_cost:  0.990863 Train_Accuracy:  0.66 valid_cost:  1.05816 Validation_Accuracy:  0.6294\n",
      "epoch:  79 train_cost:  0.98736 Train_Accuracy:  0.6616 valid_cost:  1.05534 Validation_Accuracy:  0.6308\n",
      "epoch:  80 train_cost:  0.983856 Train_Accuracy:  0.6626 valid_cost:  1.0525 Validation_Accuracy:  0.6308\n",
      "epoch:  81 train_cost:  0.98043 Train_Accuracy:  0.6636 valid_cost:  1.04976 Validation_Accuracy:  0.6308\n",
      "epoch:  82 train_cost:  0.977073 Train_Accuracy:  0.6656 valid_cost:  1.04702 Validation_Accuracy:  0.6318\n",
      "epoch:  83 train_cost:  0.973779 Train_Accuracy:  0.6674 valid_cost:  1.04443 Validation_Accuracy:  0.6322\n",
      "epoch:  84 train_cost:  0.970515 Train_Accuracy:  0.6696 valid_cost:  1.04179 Validation_Accuracy:  0.633\n",
      "epoch:  85 train_cost:  0.967274 Train_Accuracy:  0.6706 valid_cost:  1.03918 Validation_Accuracy:  0.633\n",
      "epoch:  86 train_cost:  0.964168 Train_Accuracy:  0.6714 valid_cost:  1.03664 Validation_Accuracy:  0.6344\n",
      "epoch:  87 train_cost:  0.961024 Train_Accuracy:  0.6722 valid_cost:  1.0341 Validation_Accuracy:  0.6346\n",
      "epoch:  88 train_cost:  0.957837 Train_Accuracy:  0.6734 valid_cost:  1.03155 Validation_Accuracy:  0.6356\n",
      "epoch:  89 train_cost:  0.954711 Train_Accuracy:  0.6738 valid_cost:  1.02912 Validation_Accuracy:  0.6366\n",
      "epoch:  90 train_cost:  0.951674 Train_Accuracy:  0.6758 valid_cost:  1.02672 Validation_Accuracy:  0.638\n",
      "epoch:  91 train_cost:  0.948746 Train_Accuracy:  0.676 valid_cost:  1.02438 Validation_Accuracy:  0.638\n",
      "epoch:  92 train_cost:  0.945829 Train_Accuracy:  0.6772 valid_cost:  1.02204 Validation_Accuracy:  0.6392\n",
      "epoch:  93 train_cost:  0.942875 Train_Accuracy:  0.6784 valid_cost:  1.01972 Validation_Accuracy:  0.64\n",
      "epoch:  94 train_cost:  0.940032 Train_Accuracy:  0.6796 valid_cost:  1.01746 Validation_Accuracy:  0.642\n",
      "epoch:  95 train_cost:  0.937157 Train_Accuracy:  0.6802 valid_cost:  1.01522 Validation_Accuracy:  0.6428\n",
      "epoch:  96 train_cost:  0.934363 Train_Accuracy:  0.6814 valid_cost:  1.01295 Validation_Accuracy:  0.6434\n",
      "epoch:  97 train_cost:  0.931472 Train_Accuracy:  0.6832 valid_cost:  1.01064 Validation_Accuracy:  0.6446\n",
      "epoch:  98 train_cost:  0.92867 Train_Accuracy:  0.685 valid_cost:  1.0085 Validation_Accuracy:  0.6452\n",
      "epoch:  99 train_cost:  0.925922 Train_Accuracy:  0.6864 valid_cost:  1.00638 Validation_Accuracy:  0.646\n",
      "optimization_finished\n",
      "[The model is not built]\n"
     ]
    }
   ],
   "source": [
    "run(optimizer[0], cifar_10)"
   ]
  }
 ],
 "metadata": {
  "anaconda-cloud": {},
  "kernelspec": {
   "display_name": "Python [default]",
   "language": "python",
   "name": "python3"
  },
  "language_info": {
   "codemirror_mode": {
    "name": "ipython",
    "version": 3
   },
   "file_extension": ".py",
   "mimetype": "text/x-python",
   "name": "python",
   "nbconvert_exporter": "python",
   "pygments_lexer": "ipython3",
   "version": "3.5.2"
  }
 },
 "nbformat": 4,
 "nbformat_minor": 1
}
