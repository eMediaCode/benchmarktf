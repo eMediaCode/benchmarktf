{
 "cells": [
  {
   "cell_type": "code",
   "execution_count": 1,
   "metadata": {
    "collapsed": false,
    "deletable": true,
    "editable": true
   },
   "outputs": [
    {
     "name": "stderr",
     "output_type": "stream",
     "text": [
      "Using TensorFlow backend.\n"
     ]
    }
   ],
   "source": [
    "from keras.datasets import cifar10\n",
    "from keras.datasets import cifar100\n",
    "from cifar10 import *\n",
    "import multiprocessing \n",
    "from sklearn.model_selection import train_test_split\n",
    "from keras.utils import np_utils\n",
    "import os"
   ]
  },
  {
   "cell_type": "code",
   "execution_count": 2,
   "metadata": {
    "collapsed": false,
    "deletable": true,
    "editable": true
   },
   "outputs": [],
   "source": [
    "cifar_10 = cifar10.load_data()"
   ]
  },
  {
   "cell_type": "code",
   "execution_count": 3,
   "metadata": {
    "collapsed": true,
    "deletable": true,
    "editable": true
   },
   "outputs": [],
   "source": [
    "optimizer = [\"adadelta\", \"adagrad\", \"adam\", \"ftrl\", \"momentum\", \"rmsprop\", \"sgd\"]"
   ]
  },
  {
   "cell_type": "code",
   "execution_count": 4,
   "metadata": {
    "collapsed": true,
    "deletable": true,
    "editable": true
   },
   "outputs": [],
   "source": [
    "def run(opt, data):\n",
    "    try:\n",
    "        x_train, y_train, x_test, y_test = data[0][0], data[0][1], data[1][0], data[1][1]\n",
    "        x_train, x_valid, y_train, y_valid = train_test_split(x_train, y_train, test_size=0.1, random_state= 42)\n",
    "        y_train, y_valid, y_test = np_utils.to_categorical(y_train), np_utils.to_categorical(y_valid), np_utils.to_categorical(y_test)\n",
    "        print (\"[The data is downloaded successfully]\")\n",
    "    except:\n",
    "        print (\"[Data Not Downloaded]\")\n",
    "    try:\n",
    "        model = BO(x_train, y_train, x_valid, y_valid, x_test, y_test)\n",
    "        print (\"[Model Initialized]\")\n",
    "        model.build_graph()\n",
    "        print (\"[Graph Built]\")\n",
    "        model.compile_graph(optimize = opt, learning_rate = 0.1)\n",
    "        print (\"[compiled graph]\")\n",
    "        model.train(summary_dir = os.getcwd()+\"/optimizers/\"+opt)\n",
    "    except:\n",
    "        print (\"[The model is not built]\")"
   ]
  },
  {
   "cell_type": "code",
   "execution_count": 5,
   "metadata": {
    "collapsed": false
   },
   "outputs": [
    {
     "name": "stdout",
     "output_type": "stream",
     "text": [
      "[The data is downloaded successfully]\n",
      "[Model Initialized]\n",
      "[Graph Built]\n",
      "[Using optimizer]: adam\n",
      "[compiled graph]\n",
      "[Training started]\n",
      "epoch:  0 train_cost:  10.3962 Train_Accuracy:  0.097 valid_cost:  10.3409 Validation_Accuracy:  0.1018\n",
      "epoch:  1 train_cost:  10.3962 Train_Accuracy:  0.097 valid_cost:  10.3409 Validation_Accuracy:  0.1018\n",
      "epoch:  2 train_cost:  10.3962 Train_Accuracy:  0.097 valid_cost:  10.3409 Validation_Accuracy:  0.1018\n",
      "epoch:  3 train_cost:  10.3962 Train_Accuracy:  0.097 valid_cost:  10.3409 Validation_Accuracy:  0.1018\n",
      "epoch:  4 train_cost:  10.3962 Train_Accuracy:  0.097 valid_cost:  10.3409 Validation_Accuracy:  0.1018\n",
      "epoch:  5 train_cost:  10.3962 Train_Accuracy:  0.097 valid_cost:  10.3409 Validation_Accuracy:  0.1018\n",
      "[The model is not built]\n"
     ]
    }
   ],
   "source": [
    "run(optimizer[2], cifar_10)"
   ]
  }
 ],
 "metadata": {
  "anaconda-cloud": {},
  "kernelspec": {
   "display_name": "Python [default]",
   "language": "python",
   "name": "python3"
  },
  "language_info": {
   "codemirror_mode": {
    "name": "ipython",
    "version": 3
   },
   "file_extension": ".py",
   "mimetype": "text/x-python",
   "name": "python",
   "nbconvert_exporter": "python",
   "pygments_lexer": "ipython3",
   "version": "3.5.2"
  }
 },
 "nbformat": 4,
 "nbformat_minor": 1
}
