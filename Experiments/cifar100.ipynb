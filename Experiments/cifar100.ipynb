{
 "cells": [
  {
   "cell_type": "markdown",
   "metadata": {},
   "source": [
    "Whenever you read a research paper on deep learning, almost everyone will discuss about their network architecture. The etire paper will be filled with this. They show different variants in their network design and show different metrics "
   ]
  },
  {
   "cell_type": "code",
   "execution_count": 1,
   "metadata": {
    "collapsed": false,
    "deletable": true,
    "editable": true
   },
   "outputs": [
    {
     "name": "stderr",
     "output_type": "stream",
     "text": [
      "Using TensorFlow backend.\n"
     ]
    }
   ],
   "source": [
    "from keras.datasets import cifar10\n",
    "from keras.datasets import cifar100\n",
    "from cifar10 import *\n",
    "import multiprocessing \n",
    "from sklearn.model_selection import train_test_split\n",
    "from keras.utils import np_utils\n",
    "import os"
   ]
  },
  {
   "cell_type": "code",
   "execution_count": 2,
   "metadata": {
    "collapsed": false,
    "deletable": true,
    "editable": true
   },
   "outputs": [],
   "source": [
    "cifar_100 = cifar100.load_data()"
   ]
  },
  {
   "cell_type": "code",
   "execution_count": 3,
   "metadata": {
    "collapsed": true,
    "deletable": true,
    "editable": true
   },
   "outputs": [],
   "source": [
    "optimizer = [\"adadelta\", \"adagrad\", \"adam\", \"ftrl\", \"momentum\", \"rmsprop\", \"sgd\"]"
   ]
  },
  {
   "cell_type": "code",
   "execution_count": null,
   "metadata": {
    "collapsed": true,
    "deletable": true,
    "editable": true
   },
   "outputs": [],
   "source": [
    "def run(opt, data):\n",
    "    try:\n",
    "        x_train, y_train, x_test, y_test = data[0][0], data[0][1], data[1][0], data[1][1]\n",
    "        x_train, x_valid, y_train, y_valid = train_test_split(x_train, y_train, test_size=0.1, random_state= 42)\n",
    "        y_train, y_valid, y_test = np_utils.to_categorical(y_train), np_utils.to_categorical(y_valid), np_utils.to_categorical(y_test)\n",
    "        print (\"[The data is downloaded successfully]\")\n",
    "    except:\n",
    "        print (\"[Data Not Downloaded]\")\n",
    "    try:\n",
    "        model = BO(x_train, y_train, x_valid, y_valid, x_test, y_test)\n",
    "        print (\"[Model Initialized]\")\n",
    "        model.build_graph()\n",
    "        print (\"[Graph Built]\")\n",
    "        model.compile_graph(optimize = opt, learning_rate = 0.001)\n",
    "        print (\"[compiled graph]\")\n",
    "        model.train(summary_dir = os.getcwd()+\"/optimizers/\"+opt)\n",
    "    except:\n",
    "        print (\"[The model is not built]\")"
   ]
  },
  {
   "cell_type": "code",
   "execution_count": null,
   "metadata": {
    "collapsed": false
   },
   "outputs": [
    {
     "name": "stdout",
     "output_type": "stream",
     "text": [
      "[The data is downloaded successfully]\n",
      "[Model Initialized]\n",
      "[Graph Built]\n",
      "[Using optimizer]: adam\n",
      "[compiled graph]\n",
      "[Training started]\n",
      "epoch:  0 train_cost:  3.41996 Train_Accuracy:  0.1776 valid_cost:  3.38595 Validation_Accuracy:  0.1888\n",
      "epoch:  1 train_cost:  2.9811 Train_Accuracy:  0.261 valid_cost:  3.03237 Validation_Accuracy:  0.2506\n",
      "epoch:  2 train_cost:  2.76788 Train_Accuracy:  0.3046 valid_cost:  2.93736 Validation_Accuracy:  0.2706\n",
      "epoch:  3 train_cost:  2.56538 Train_Accuracy:  0.345 valid_cost:  2.87546 Validation_Accuracy:  0.2974\n",
      "epoch:  4 train_cost:  2.59275 Train_Accuracy:  0.3304 valid_cost:  3.02892 Validation_Accuracy:  0.284\n",
      "epoch:  5 train_cost:  2.47554 Train_Accuracy:  0.3562 valid_cost:  3.05533 Validation_Accuracy:  0.2884\n",
      "epoch:  6 train_cost:  2.32203 Train_Accuracy:  0.394 valid_cost:  3.10828 Validation_Accuracy:  0.293\n",
      "epoch:  7 train_cost:  2.08594 Train_Accuracy:  0.435 valid_cost:  3.09788 Validation_Accuracy:  0.3082\n",
      "epoch:  8 train_cost:  2.04508 Train_Accuracy:  0.4484 valid_cost:  3.24038 Validation_Accuracy:  0.3026\n",
      "epoch:  9 train_cost:  2.22993 Train_Accuracy:  0.4262 valid_cost:  3.4917 Validation_Accuracy:  0.2812\n",
      "epoch:  10 train_cost:  2.1808 Train_Accuracy:  0.4378 valid_cost:  3.72512 Validation_Accuracy:  0.2738\n",
      "epoch:  11 train_cost:  2.15087 Train_Accuracy:  0.4512 valid_cost:  3.92619 Validation_Accuracy:  0.2802\n",
      "epoch:  12 train_cost:  1.99673 Train_Accuracy:  0.486 valid_cost:  4.01987 Validation_Accuracy:  0.2712\n",
      "epoch:  13 train_cost:  1.8561 Train_Accuracy:  0.5134 valid_cost:  4.13568 Validation_Accuracy:  0.2774\n",
      "epoch:  14 train_cost:  1.93866 Train_Accuracy:  0.4976 valid_cost:  4.26214 Validation_Accuracy:  0.2748\n",
      "epoch:  15 train_cost:  1.98735 Train_Accuracy:  0.5026 valid_cost:  4.42221 Validation_Accuracy:  0.2712\n",
      "epoch:  16 train_cost:  1.89186 Train_Accuracy:  0.5204 valid_cost:  4.55808 Validation_Accuracy:  0.2758\n",
      "epoch:  17 train_cost:  1.97535 Train_Accuracy:  0.5152 valid_cost:  4.68966 Validation_Accuracy:  0.2698\n",
      "epoch:  18 train_cost:  1.9256 Train_Accuracy:  0.536 valid_cost:  4.86205 Validation_Accuracy:  0.2602\n",
      "epoch:  19 train_cost:  1.92498 Train_Accuracy:  0.5338 valid_cost:  5.00793 Validation_Accuracy:  0.2624\n",
      "epoch:  20 train_cost:  1.94483 Train_Accuracy:  0.5338 valid_cost:  5.07414 Validation_Accuracy:  0.2614\n",
      "epoch:  21 train_cost:  1.89134 Train_Accuracy:  0.537 valid_cost:  5.16619 Validation_Accuracy:  0.2584\n",
      "epoch:  22 train_cost:  1.9101 Train_Accuracy:  0.5432 valid_cost:  5.25904 Validation_Accuracy:  0.2572\n",
      "epoch:  23 train_cost:  1.91978 Train_Accuracy:  0.5442 valid_cost:  5.27093 Validation_Accuracy:  0.2496\n",
      "epoch:  24 train_cost:  1.89053 Train_Accuracy:  0.5538 valid_cost:  5.38708 Validation_Accuracy:  0.2502\n",
      "epoch:  25 train_cost:  1.86451 Train_Accuracy:  0.5518 valid_cost:  5.48089 Validation_Accuracy:  0.2472\n",
      "epoch:  26 train_cost:  1.837 Train_Accuracy:  0.5724 valid_cost:  5.53273 Validation_Accuracy:  0.2568\n",
      "epoch:  27 train_cost:  1.82346 Train_Accuracy:  0.5742 valid_cost:  5.64721 Validation_Accuracy:  0.2578\n",
      "epoch:  28 train_cost:  1.98363 Train_Accuracy:  0.5568 valid_cost:  5.72375 Validation_Accuracy:  0.2454\n",
      "epoch:  29 train_cost:  1.75118 Train_Accuracy:  0.6022 valid_cost:  5.8308 Validation_Accuracy:  0.2522\n",
      "epoch:  30 train_cost:  1.99926 Train_Accuracy:  0.5674 valid_cost:  5.92954 Validation_Accuracy:  0.2446\n",
      "epoch:  31 train_cost:  1.79475 Train_Accuracy:  0.5958 valid_cost:  5.97353 Validation_Accuracy:  0.2488\n",
      "epoch:  32 train_cost:  1.84671 Train_Accuracy:  0.6044 valid_cost:  6.10424 Validation_Accuracy:  0.2522\n",
      "epoch:  33 train_cost:  1.91313 Train_Accuracy:  0.5996 valid_cost:  6.10426 Validation_Accuracy:  0.2446\n",
      "epoch:  34 train_cost:  2.31462 Train_Accuracy:  0.5576 valid_cost:  6.35102 Validation_Accuracy:  0.2354\n",
      "epoch:  35 train_cost:  2.14869 Train_Accuracy:  0.5746 valid_cost:  6.30795 Validation_Accuracy:  0.2388\n",
      "epoch:  36 train_cost:  1.85794 Train_Accuracy:  0.6128 valid_cost:  6.28546 Validation_Accuracy:  0.2412\n",
      "epoch:  37 train_cost:  2.16025 Train_Accuracy:  0.5846 valid_cost:  6.39978 Validation_Accuracy:  0.2432\n",
      "epoch:  38 train_cost:  2.082 Train_Accuracy:  0.5924 valid_cost:  6.42798 Validation_Accuracy:  0.2454\n",
      "epoch:  39 train_cost:  1.88202 Train_Accuracy:  0.6156 valid_cost:  6.34229 Validation_Accuracy:  0.251\n",
      "epoch:  40 train_cost:  2.11518 Train_Accuracy:  0.6056 valid_cost:  6.5315 Validation_Accuracy:  0.2448\n",
      "epoch:  41 train_cost:  2.27479 Train_Accuracy:  0.5876 valid_cost:  6.65805 Validation_Accuracy:  0.2354\n",
      "epoch:  42 train_cost:  1.67429 Train_Accuracy:  0.6626 valid_cost:  6.49715 Validation_Accuracy:  0.2534\n",
      "epoch:  43 train_cost:  1.61047 Train_Accuracy:  0.6746 valid_cost:  6.57061 Validation_Accuracy:  0.2522\n",
      "epoch:  44 train_cost:  2.01684 Train_Accuracy:  0.622 valid_cost:  6.65833 Validation_Accuracy:  0.2432\n",
      "epoch:  45 train_cost:  1.60291 Train_Accuracy:  0.6766 valid_cost:  6.56435 Validation_Accuracy:  0.2514\n",
      "epoch:  46 train_cost:  1.60229 Train_Accuracy:  0.68 valid_cost:  6.68349 Validation_Accuracy:  0.2504\n",
      "epoch:  47 train_cost:  1.60977 Train_Accuracy:  0.6758 valid_cost:  6.631 Validation_Accuracy:  0.2574\n",
      "epoch:  48 train_cost:  1.61291 Train_Accuracy:  0.6766 valid_cost:  6.70335 Validation_Accuracy:  0.2422\n",
      "epoch:  49 train_cost:  1.51822 Train_Accuracy:  0.6916 valid_cost:  6.77642 Validation_Accuracy:  0.2512\n",
      "epoch:  50 train_cost:  1.50114 Train_Accuracy:  0.6936 valid_cost:  6.72542 Validation_Accuracy:  0.2544\n",
      "epoch:  51 train_cost:  1.74193 Train_Accuracy:  0.6786 valid_cost:  6.81587 Validation_Accuracy:  0.2486\n",
      "epoch:  52 train_cost:  1.40489 Train_Accuracy:  0.7126 valid_cost:  6.79324 Validation_Accuracy:  0.2576\n",
      "epoch:  53 train_cost:  1.40951 Train_Accuracy:  0.7102 valid_cost:  6.92325 Validation_Accuracy:  0.2428\n",
      "epoch:  54 train_cost:  1.27901 Train_Accuracy:  0.7352 valid_cost:  6.84993 Validation_Accuracy:  0.2516\n",
      "epoch:  55 train_cost:  1.27401 Train_Accuracy:  0.737 valid_cost:  6.89784 Validation_Accuracy:  0.2508\n",
      "epoch:  56 train_cost:  1.29036 Train_Accuracy:  0.7348 valid_cost:  6.95199 Validation_Accuracy:  0.2468\n",
      "epoch:  57 train_cost:  1.1933 Train_Accuracy:  0.7482 valid_cost:  6.90505 Validation_Accuracy:  0.2502\n",
      "epoch:  58 train_cost:  1.18487 Train_Accuracy:  0.751 valid_cost:  6.92941 Validation_Accuracy:  0.2546\n",
      "epoch:  59 train_cost:  1.05143 Train_Accuracy:  0.772 valid_cost:  6.91086 Validation_Accuracy:  0.258\n",
      "epoch:  60 train_cost:  1.11098 Train_Accuracy:  0.7684 valid_cost:  6.85438 Validation_Accuracy:  0.2618\n",
      "epoch:  61 train_cost:  1.25019 Train_Accuracy:  0.749 valid_cost:  6.95279 Validation_Accuracy:  0.2568\n",
      "epoch:  62 train_cost:  1.17443 Train_Accuracy:  0.764 valid_cost:  6.90262 Validation_Accuracy:  0.2612\n",
      "epoch:  63 train_cost:  1.0048 Train_Accuracy:  0.7848 valid_cost:  6.90345 Validation_Accuracy:  0.2622\n",
      "epoch:  64 train_cost:  1.25062 Train_Accuracy:  0.751 valid_cost:  7.01521 Validation_Accuracy:  0.2586\n",
      "epoch:  65 train_cost:  1.07714 Train_Accuracy:  0.7836 valid_cost:  6.97318 Validation_Accuracy:  0.257\n",
      "epoch:  66 train_cost:  1.09943 Train_Accuracy:  0.775 valid_cost:  6.95012 Validation_Accuracy:  0.2578\n",
      "epoch:  67 train_cost:  1.07873 Train_Accuracy:  0.7768 valid_cost:  7.0323 Validation_Accuracy:  0.2584\n",
      "epoch:  68 train_cost:  1.13973 Train_Accuracy:  0.7686 valid_cost:  7.03053 Validation_Accuracy:  0.2528\n",
      "epoch:  69 train_cost:  1.31158 Train_Accuracy:  0.745 valid_cost:  7.09219 Validation_Accuracy:  0.2538\n",
      "epoch:  70 train_cost:  1.44324 Train_Accuracy:  0.7342 valid_cost:  7.13614 Validation_Accuracy:  0.2524\n",
      "epoch:  71 train_cost:  1.19966 Train_Accuracy:  0.7636 valid_cost:  7.10835 Validation_Accuracy:  0.2568\n",
      "epoch:  72 train_cost:  1.27773 Train_Accuracy:  0.7616 valid_cost:  7.15473 Validation_Accuracy:  0.257\n",
      "epoch:  73 train_cost:  1.2744 Train_Accuracy:  0.756 valid_cost:  7.23285 Validation_Accuracy:  0.2468\n",
      "epoch:  74 train_cost:  1.30849 Train_Accuracy:  0.7506 valid_cost:  7.24496 Validation_Accuracy:  0.2456\n",
      "epoch:  75 train_cost:  1.16069 Train_Accuracy:  0.7754 valid_cost:  7.18615 Validation_Accuracy:  0.258\n",
      "epoch:  76 train_cost:  1.22709 Train_Accuracy:  0.7686 valid_cost:  7.2823 Validation_Accuracy:  0.2522\n",
      "epoch:  77 train_cost:  1.17891 Train_Accuracy:  0.7764 valid_cost:  7.2958 Validation_Accuracy:  0.252\n",
      "epoch:  78 train_cost:  0.911268 Train_Accuracy:  0.81 valid_cost:  7.15866 Validation_Accuracy:  0.2596\n"
     ]
    }
   ],
   "source": [
    "run(optimizer[2], cifar_100)"
   ]
  }
 ],
 "metadata": {
  "anaconda-cloud": {},
  "kernelspec": {
   "display_name": "Python [default]",
   "language": "python",
   "name": "python3"
  },
  "language_info": {
   "codemirror_mode": {
    "name": "ipython",
    "version": 3
   },
   "file_extension": ".py",
   "mimetype": "text/x-python",
   "name": "python",
   "nbconvert_exporter": "python",
   "pygments_lexer": "ipython3",
   "version": "3.5.2"
  }
 },
 "nbformat": 4,
 "nbformat_minor": 1
}
